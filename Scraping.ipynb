{
 "cells": [
  {
   "cell_type": "code",
   "execution_count": 1,
   "id": "42be8d43",
   "metadata": {},
   "outputs": [
    {
     "name": "stdout",
     "output_type": "stream",
     "text": [
      "Requirement already satisfied: beautifulsoup4 in c:\\users\\admin\\anaconda3\\lib\\site-packages (4.9.3)\n",
      "Requirement already satisfied: soupsieve>1.2 in c:\\users\\admin\\anaconda3\\lib\\site-packages (from beautifulsoup4) (2.2.1)\n",
      "Note: you may need to restart the kernel to use updated packages.\n"
     ]
    }
   ],
   "source": [
    "pip install beautifulsoup4"
   ]
  },
  {
   "cell_type": "code",
   "execution_count": 2,
   "id": "3a169114",
   "metadata": {},
   "outputs": [
    {
     "name": "stdout",
     "output_type": "stream",
     "text": [
      "Requirement already satisfied: selenium in c:\\users\\admin\\anaconda3\\lib\\site-packages (3.141.0)\n",
      "Requirement already satisfied: urllib3 in c:\\users\\admin\\anaconda3\\lib\\site-packages (from selenium) (1.26.4)\n",
      "Note: you may need to restart the kernel to use updated packages.\n"
     ]
    }
   ],
   "source": [
    "pip install selenium"
   ]
  },
  {
   "cell_type": "code",
   "execution_count": 3,
   "id": "3432aba0",
   "metadata": {},
   "outputs": [],
   "source": [
    "import csv\n",
    "from bs4 import BeautifulSoup"
   ]
  },
  {
   "cell_type": "code",
   "execution_count": 4,
   "id": "e30a9205",
   "metadata": {},
   "outputs": [],
   "source": [
    "from msedge.selenium_tools import Edge, EdgeOptions"
   ]
  },
  {
   "cell_type": "code",
   "execution_count": 5,
   "id": "ca9ce7b1",
   "metadata": {},
   "outputs": [],
   "source": [
    "options = EdgeOptions()\n",
    "options.use_chromium = True\n",
    "driver = Edge(options=options)"
   ]
  },
  {
   "cell_type": "code",
   "execution_count": 6,
   "id": "65790cfd",
   "metadata": {},
   "outputs": [],
   "source": [
    "url = \"https://www.amazon.com\"\n",
    "driver.get(url)"
   ]
  },
  {
   "cell_type": "code",
   "execution_count": 7,
   "id": "dfa86260",
   "metadata": {},
   "outputs": [],
   "source": [
    "def  get_url(search_term):\n",
    "    \"\"\"Generate a url fro search term\"\"\"\n",
    "    template = \"https://www.amazon.com/s?k={}&ref=nb_sb_noss_1\"\n",
    "    search_term = search_term.replace(' ', '+')\n",
    "    return template.format(search_term)"
   ]
  },
  {
   "cell_type": "code",
   "execution_count": 8,
   "id": "c780ba9a",
   "metadata": {},
   "outputs": [
    {
     "name": "stdout",
     "output_type": "stream",
     "text": [
      "https://www.amazon.com/s?k=ultrawide+monitor&ref=nb_sb_noss_1\n"
     ]
    }
   ],
   "source": [
    "url = get_url('ultrawide monitor')\n",
    "print(url)"
   ]
  },
  {
   "cell_type": "code",
   "execution_count": 9,
   "id": "1d240f94",
   "metadata": {},
   "outputs": [],
   "source": [
    "driver.get(url)"
   ]
  },
  {
   "cell_type": "markdown",
   "id": "f0946040",
   "metadata": {},
   "source": [
    "## Extract the Collection"
   ]
  },
  {
   "cell_type": "code",
   "execution_count": 10,
   "id": "74fb6f47",
   "metadata": {},
   "outputs": [],
   "source": [
    "soup = BeautifulSoup(driver.page_source,'html.parser')"
   ]
  },
  {
   "cell_type": "code",
   "execution_count": 11,
   "id": "1a99cc97",
   "metadata": {},
   "outputs": [],
   "source": [
    "results = soup.find_all('div',{'data-component-type':'s-search-result'})"
   ]
  },
  {
   "cell_type": "code",
   "execution_count": 12,
   "id": "114d15ba",
   "metadata": {},
   "outputs": [
    {
     "data": {
      "text/plain": [
       "22"
      ]
     },
     "execution_count": 12,
     "metadata": {},
     "output_type": "execute_result"
    }
   ],
   "source": [
    "len(results)"
   ]
  },
  {
   "cell_type": "markdown",
   "id": "8c008afb",
   "metadata": {},
   "source": [
    "### Prototype the record"
   ]
  },
  {
   "cell_type": "code",
   "execution_count": 13,
   "id": "6613bd23",
   "metadata": {},
   "outputs": [],
   "source": [
    "item = results[0]"
   ]
  },
  {
   "cell_type": "code",
   "execution_count": 14,
   "id": "95ce8640",
   "metadata": {},
   "outputs": [],
   "source": [
    "atag = item.h2.a"
   ]
  },
  {
   "cell_type": "code",
   "execution_count": 15,
   "id": "573497c2",
   "metadata": {},
   "outputs": [
    {
     "data": {
      "text/plain": [
       "'SAMSUNG 34-Inch Odyssey G5 Ultra-Wide Gaming Monitor with 1000R Curved Screen, 165Hz, 1ms, FreeSync Premium, WQHD (LC34G55TWWNXZA, 2020 Model), Black '"
      ]
     },
     "execution_count": 15,
     "metadata": {},
     "output_type": "execute_result"
    }
   ],
   "source": [
    "atag.text"
   ]
  },
  {
   "cell_type": "code",
   "execution_count": 16,
   "id": "5c280f16",
   "metadata": {},
   "outputs": [],
   "source": [
    "url = 'https://www.amazon.com' + atag.get('href')"
   ]
  },
  {
   "cell_type": "code",
   "execution_count": 17,
   "id": "434f501b",
   "metadata": {},
   "outputs": [],
   "source": [
    "price_parent = item.find('span', 'a-price')"
   ]
  },
  {
   "cell_type": "code",
   "execution_count": 18,
   "id": "82d99109",
   "metadata": {},
   "outputs": [],
   "source": [
    "price = price_parent.find('span', 'a-offscreen').text"
   ]
  },
  {
   "cell_type": "code",
   "execution_count": 21,
   "id": "c5fd7496",
   "metadata": {},
   "outputs": [],
   "source": [
    "rating = item.i.text"
   ]
  },
  {
   "cell_type": "code",
   "execution_count": 22,
   "id": "a84d4b9a",
   "metadata": {},
   "outputs": [],
   "source": [
    "review_count = item.find('span', {'class': 'a-size-base'}).text"
   ]
  },
  {
   "cell_type": "code",
   "execution_count": 25,
   "id": "c07ca1b7",
   "metadata": {},
   "outputs": [],
   "source": [
    "def extract_record(item):\n",
    "    atag = item.h2.a\n",
    "    description = atag.text.strip()\n",
    "    url = 'https://www.amazon.com' + atag.get('href')\n",
    "    \n",
    "    price_parent = item.find('span', 'a-price') \n",
    "    price = price_parent.find('span', 'a-offscreen').text\n",
    "    \n",
    "    rating = item.i.text\n",
    "    review_count = item.find('span', {'class': 'a-size-base'}).text\n",
    "    \n",
    "    result = (description, price, rating, review_count, url)\n",
    "    return result\n"
   ]
  },
  {
   "cell_type": "code",
   "execution_count": 26,
   "id": "0616a738",
   "metadata": {},
   "outputs": [],
   "source": [
    "records = []\n",
    "results = soup.find_all('div', {'data-component-type': 's-search-result'})\n",
    "\n",
    "for items in results:\n",
    "    records.append(extract_record(item))"
   ]
  },
  {
   "cell_type": "markdown",
   "id": "03a424c9",
   "metadata": {},
   "source": [
    "### Error Handling"
   ]
  },
  {
   "cell_type": "code",
   "execution_count": 31,
   "id": "5f2b366a",
   "metadata": {},
   "outputs": [],
   "source": [
    "def extract_record(item):\n",
    "    \n",
    "    atag = item.h2.a\n",
    "    description = atag.text.strip()\n",
    "    url = 'https://www.amazon.com' + atag.get('href')\n",
    "    \n",
    "    try:\n",
    "        price_parent = item.find('span', 'a-price') \n",
    "        price = price_parent.find('span', 'a-offscreen').text\n",
    "    except AttributeError:\n",
    "        return \n",
    "        \n",
    "    try:\n",
    "        rating = item.i.text\n",
    "        review_count = item.find('span', {'class': 'a-size-base'}).text\n",
    "    except AttributeError:\n",
    "        rating = ''\n",
    "        review_count = ''\n",
    "        \n",
    "    result = (description, price, rating, review_count, url)\n",
    "    return result"
   ]
  },
  {
   "cell_type": "code",
   "execution_count": 32,
   "id": "f164d47c",
   "metadata": {},
   "outputs": [],
   "source": [
    "records = []\n",
    "results = soup.find_all('div', {'data-component-type': 's-search-result'})\n",
    "\n",
    "for item in results:\n",
    "    record = extract_record(item)\n",
    "    if record:\n",
    "        records.append(record)"
   ]
  },
  {
   "cell_type": "code",
   "execution_count": 33,
   "id": "9221665e",
   "metadata": {},
   "outputs": [
    {
     "data": {
      "text/plain": [
       "('SAMSUNG 34-Inch Odyssey G5 Ultra-Wide Gaming Monitor with 1000R Curved Screen, 165Hz, 1ms, FreeSync Premium, WQHD (LC34G55TWWNXZA, 2020 Model), Black',\n",
       " '$599.99',\n",
       " '4.6 out of 5 stars',\n",
       " '3,543',\n",
       " 'https://www.amazon.com/gp/slredirect/picassoRedirect.html/ref=pa_sp_atf_aps_sr_pg1_1?ie=UTF8&adId=A04961222KVJJGI2X8D5E&url=%2FSAMSUNG-34-Inch-Ultra-Wide-FreeSync-LC34G55TWWNXZA%2Fdp%2FB08MVBYWGQ%2Fref%3Dsr_1_1_sspa%3Fdchild%3D1%26keywords%3Dultrawide%2Bmonitor%26qid%3D1634637667%26sr%3D8-1-spons%26psc%3D1&qualifier=1634637667&id=4397828950984473&widgetName=sp_atf')"
      ]
     },
     "execution_count": 33,
     "metadata": {},
     "output_type": "execute_result"
    }
   ],
   "source": [
    "records[0]"
   ]
  },
  {
   "cell_type": "code",
   "execution_count": 34,
   "id": "3f0df02a",
   "metadata": {},
   "outputs": [
    {
     "data": {
      "text/plain": [
       "('SAMSUNG 34 Inch Ultrawide QHD Curved Monitor, 100hz, 1440p Monitor, Computer Monitor, 1000R Curved, USB-C, HDR10, Vertical Monitor, TUV-Certified Intelligent Eye Care, S65UA (LS34A650UXNXGO)',\n",
       " '$649.99',\n",
       " '4.3 out of 5 stars',\n",
       " '33',\n",
       " 'https://www.amazon.com/gp/slredirect/picassoRedirect.html/ref=pa_sp_atf_aps_sr_pg1_1?ie=UTF8&adId=A001299824R6GD09EHQKN&url=%2FSAMSUNG-Adjustable-TUV-Certified-Intelligent-LS34A650UXNXGO%2Fdp%2FB08V71HXY3%2Fref%3Dsr_1_2_sspa%3Fdchild%3D1%26keywords%3Dultrawide%2Bmonitor%26qid%3D1634637667%26sr%3D8-2-spons%26psc%3D1&qualifier=1634637667&id=4397828950984473&widgetName=sp_atf')"
      ]
     },
     "execution_count": 34,
     "metadata": {},
     "output_type": "execute_result"
    }
   ],
   "source": [
    "records[1]"
   ]
  },
  {
   "cell_type": "code",
   "execution_count": 35,
   "id": "f78ba198",
   "metadata": {},
   "outputs": [
    {
     "data": {
      "text/plain": [
       "('Lenovo G34w-10 34-Inch WQHD Curved Gaming Monitor, 21:9 Ultra-Wide, 3 Side NearEdgeless, 3440 x 1440, AMD FreeSync, 144Hz, HDMI, DP, Adjustable Stand, VESA, 66A1GCCBUS, Black',\n",
       " '$428.00',\n",
       " '4.4 out of 5 stars',\n",
       " '388',\n",
       " 'https://www.amazon.com/Lenovo-G34w-10-34-Inch-Curved-Monitor/dp/B084R2XYM9/ref=sr_1_5?dchild=1&keywords=ultrawide+monitor&qid=1634637667&sr=8-5')"
      ]
     },
     "execution_count": 35,
     "metadata": {},
     "output_type": "execute_result"
    }
   ],
   "source": [
    "records[2]"
   ]
  },
  {
   "cell_type": "code",
   "execution_count": 36,
   "id": "e3d2447d",
   "metadata": {},
   "outputs": [
    {
     "data": {
      "text/plain": [
       "('Philips Computer Monitors 292E2E 29\"\" Frameless IPS Monitor, UltraWide Full HD 2560x1080, 126% sRGB/110% NTSC, 75Hz FreeSync, Height Adjustable, VESA, 4Yr Advance Replacement, Black',\n",
       " '$239.99',\n",
       " '4.6 out of 5 stars',\n",
       " '9,960',\n",
       " 'https://www.amazon.com/Philips-Computer-Monitors-292E2E-Replacement/dp/B08KFLL9JW/ref=sr_1_12?dchild=1&keywords=ultrawide+monitor&qid=1634637667&sr=8-12')"
      ]
     },
     "execution_count": 36,
     "metadata": {},
     "output_type": "execute_result"
    }
   ],
   "source": [
    "records[5]"
   ]
  },
  {
   "cell_type": "code",
   "execution_count": 37,
   "id": "3ece83b6",
   "metadata": {},
   "outputs": [
    {
     "name": "stdout",
     "output_type": "stream",
     "text": [
      "$599.99\n",
      "$649.99\n",
      "$428.00\n",
      "$249.96\n",
      "$397.97\n",
      "$239.99\n",
      "$449.99\n",
      "$429.99\n",
      "$309.99\n",
      "$115.99\n",
      "$247.89\n",
      "$399.99\n",
      "$399.99\n",
      "$319.45\n",
      "$262.01\n"
     ]
    }
   ],
   "source": [
    "for row in records:\n",
    "    print(row[1])"
   ]
  },
  {
   "cell_type": "markdown",
   "id": "7b715f3f",
   "metadata": {},
   "source": [
    "### Getting on next page"
   ]
  },
  {
   "cell_type": "code",
   "execution_count": 38,
   "id": "6f0fd6f1",
   "metadata": {},
   "outputs": [],
   "source": [
    "def  get_url(search_term):\n",
    "    \"\"\"Generate a url fro search term\"\"\"\n",
    "    template = \"https://www.amazon.com/s?k={}&ref=nb_sb_noss_1\"\n",
    "    search_term = search_term.replace(' ', '+')\n",
    "    \n",
    "    ## add term query to it.\n",
    "    url = template.format(search_term)\n",
    "    ## add page query \n",
    "    url += '&page{}'\n",
    "    \n",
    "    return url"
   ]
  },
  {
   "cell_type": "markdown",
   "id": "8a5f124d",
   "metadata": {},
   "source": [
    "### Putting all pages together"
   ]
  },
  {
   "cell_type": "code",
   "execution_count": 60,
   "id": "7af60d8b",
   "metadata": {},
   "outputs": [],
   "source": [
    "import csv\n",
    "from bs4 import BeautifulSoup\n",
    "from msedge.selenium_tools import Edge, EdgeOptions\n",
    "\n",
    "def  get_url(search_term):\n",
    "    \"\"\"Generate a url fro search term\"\"\"\n",
    "    template = \"https://www.amazon.com/s?k={}&ref=nb_sb_noss_1\"\n",
    "    search_term = search_term.replace(' ', '+')\n",
    "    \n",
    "    ## add term query to it.\n",
    "    url = template.format(search_term)\n",
    "    ## add page query \n",
    "    url += '&page={}'\n",
    "    \n",
    "    return url\n",
    "\n",
    "def extract_record(item):\n",
    "    \"\"\"extract and return data for a single record\"\"\"\n",
    "    atag = item.h2.a\n",
    "    description = atag.text.strip()\n",
    "    url = 'https://www.amazon.com' + atag.get('href')\n",
    "    \n",
    "    try:\n",
    "        price_parent = item.find('span', 'a-price') \n",
    "        price = price_parent.find('span', 'a-offscreen').text\n",
    "    except AttributeError:\n",
    "        return \n",
    "        \n",
    "    try:\n",
    "        rating = item.i.text\n",
    "        review_count = item.find('span', {'class': 'a-size-base'}).text\n",
    "    except AttributeError:\n",
    "        rating = ''\n",
    "        review_count = ''\n",
    "        \n",
    "    result = (description, price, rating, review_count, url)\n",
    "    return result\n",
    "\n",
    "\n",
    "def main(search_term):\n",
    "    \"\"\"Run main program\"\"\"\n",
    "    # start web driver\n",
    "    options = EdgeOptions()\n",
    "    options.use_chromium = True\n",
    "    driver = Edge(options=options)\n",
    "    \n",
    "    records = []\n",
    "    url = get_url(search_term)\n",
    "    \n",
    "    for page in range(1,21):\n",
    "        driver.get(url.format(page))\n",
    "        soup = BeautifulSoup(driver.page_source, 'html.parser')\n",
    "        results = soup.find_all('div',{'data-component-type':'s-search-result'})\n",
    "        for item in results:\n",
    "            record = extract_record(item)\n",
    "            if record:\n",
    "                records.append(record)\n",
    "    \n",
    "    driver.close() \n",
    "    \n",
    "    ## save data in CSV file\n",
    "    with open('results.csv', 'w', newline='', encoding='utf-8') as f:\n",
    "        writer = csv.writer(f)\n",
    "        writer.writerow(['Description', 'Price', 'Rating', 'ReviewCount', 'url'])\n",
    "        writer.writerows(records)"
   ]
  },
  {
   "cell_type": "code",
   "execution_count": 61,
   "id": "d334028e",
   "metadata": {},
   "outputs": [],
   "source": [
    "main('ultrawide monitor')"
   ]
  },
  {
   "cell_type": "code",
   "execution_count": null,
   "id": "97ebb349",
   "metadata": {},
   "outputs": [],
   "source": []
  }
 ],
 "metadata": {
  "kernelspec": {
   "display_name": "Python 3",
   "language": "python",
   "name": "python3"
  },
  "language_info": {
   "codemirror_mode": {
    "name": "ipython",
    "version": 3
   },
   "file_extension": ".py",
   "mimetype": "text/x-python",
   "name": "python",
   "nbconvert_exporter": "python",
   "pygments_lexer": "ipython3",
   "version": "3.8.8"
  }
 },
 "nbformat": 4,
 "nbformat_minor": 5
}
